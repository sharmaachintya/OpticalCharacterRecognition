{
 "cells": [
  {
   "cell_type": "code",
   "execution_count": 1,
   "id": "appropriate-christianity",
   "metadata": {},
   "outputs": [],
   "source": [
    "try:\n",
    "    from PIL import Image\n",
    "except ImportError:\n",
    "    import Image"
   ]
  },
  {
   "cell_type": "code",
   "execution_count": 2,
   "id": "small-reverse",
   "metadata": {},
   "outputs": [],
   "source": [
    "import pytesseract\n",
    "pytesseract.pytesseract.tesseract_cmd=r'C:\\Program Files\\Tesseract-OCR\\tesseract.exe'"
   ]
  },
  {
   "cell_type": "code",
   "execution_count": 3,
   "id": "noted-macro",
   "metadata": {},
   "outputs": [],
   "source": [
    "def recText(filename):\n",
    "    text=pytesseract.image_to_string(Image.open(filename))\n",
    "    return text"
   ]
  },
  {
   "cell_type": "code",
   "execution_count": 7,
   "id": "optional-plane",
   "metadata": {},
   "outputs": [
    {
     "name": "stdout",
     "output_type": "stream",
     "text": [
      "It is quite natural for academics who are continuously told to “publish or perish” to want to always\n",
      "create something from scratch that is their own fresh creation. This book is an experiment in not starting\n",
      "from scratch, but instead “remixing” the book titled Think Python: How to Think Like a Computer\n",
      "Scientist written by Allen B. Downey, Jeff Elkner, and others. In December of 2009, | was preparing to\n",
      "teach $1502 - Networked Programming at the University of Michigan for the fifth semester in a row and\n",
      "decided it was time to write a Python textbook that focused on exploring data instead of understanding\n",
      "algorithms and abstractions. My goal in SI502 is to teach people lifelong data handling skills using\n",
      "Python. Few of my students were planning to be professional computer programmers. Instead, they\n",
      "planned to be librarians, managers, lawyers, biologists, economists, etc., who happened to want to\n",
      "skillfully use technology in their chosen field. | never seemed to find the perfect data-oriented Python\n",
      "book for my course, so | set out to write just such a book. Luckily at a faculty meeting three weeks\n",
      "before | was about to start my new book from scratch over the holiday break, Dr. Atul Prakash showed\n",
      "me the Think Python book which he had used to teach his Python course that semester. It is a well-\n",
      "written Computer Science text with a focus on short, direct explanations and ease of learning. The\n",
      "overall book structure has been changed to get to doing data analysis problems as quickly as possible\n",
      "and have a serlt is quite natural for academics who are continuously told to “publish or perish” to want\n",
      "to always create something from scratch that is their own fresh creation. This book is an experiment in\n",
      "not starting from scratch, but instead “remixing” the book titled Think Python: How to Think Like a\n",
      "Computer Scientist written by Allen B. Downey, Jeff Elkner, and others. In December of 2009, | was\n",
      "preparing to teach SI502 - Networked Programming at the University of Michigan for the fifth semester\n",
      "in a row and decided it was time to write a Python textbook that focused on exploring data instead of\n",
      "understanding algorithms and abstractions. My goal in SI502 is to teach people lifelong data handling\n",
      "skills using Python. Few of my students were planning to be professional computer programmers.\n",
      "Instead, they planned to be librarians, managers, lawyers, biologists, economists, etc., who happened to\n",
      "want to skillfully use technology in their chosen field. | never seemed to find the perfect data-oriented\n",
      "Python book for my course, so | set out to write just such a book. Luckily at a faculty meeting three\n",
      "weeks before | was about to start my new book from scratch over the holiday break, Dr. Atul Prakash\n",
      "showed me the Think Python book which he had used to teach his Python course that semester. It is a\n",
      "well-written Computer Science text with a focus on short, direct explanations and ease of learning. The\n",
      "overall book structure has been changed to get to doing data analysis problems as quickly as possible\n",
      "and have a series of running examples and exercises about data analysis from the very beginningies of\n",
      "running examples and exercises about data analysis from the very beginning\n",
      "\f",
      "\n",
      "Written successful\n"
     ]
    }
   ],
   "source": [
    "info=recText('Test.jpg')\n",
    "print(info)\n",
    "file=open(\"result.txt\",\"w\")\n",
    "file.write(info)\n",
    "file.close()\n",
    "print(\"Written successful\")"
   ]
  },
  {
   "cell_type": "code",
   "execution_count": null,
   "id": "brilliant-block",
   "metadata": {},
   "outputs": [],
   "source": []
  }
 ],
 "metadata": {
  "kernelspec": {
   "display_name": "Python 3",
   "language": "python",
   "name": "python3"
  },
  "language_info": {
   "codemirror_mode": {
    "name": "ipython",
    "version": 3
   },
   "file_extension": ".py",
   "mimetype": "text/x-python",
   "name": "python",
   "nbconvert_exporter": "python",
   "pygments_lexer": "ipython3",
   "version": "3.6.3"
  }
 },
 "nbformat": 4,
 "nbformat_minor": 5
}
